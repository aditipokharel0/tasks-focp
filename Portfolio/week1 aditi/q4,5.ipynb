{
 "cells": [
  {
   "cell_type": "markdown",
   "id": "d4a21900",
   "metadata": {},
   "source": [
    "# 5"
   ]
  },
  {
   "cell_type": "code",
   "execution_count": 3,
   "id": "52c6b1e4",
   "metadata": {},
   "outputs": [
    {
     "name": "stdout",
     "output_type": "stream",
     "text": [
      "For 113 students:\n",
      "Full Groups: 4\n",
      "Remaining Students: 17\n",
      "\n",
      "For 175 students:\n",
      "Full Groups: 7\n",
      "Remaining Students: 7\n",
      "\n",
      "For 12 students:\n",
      "Full Groups: 0\n",
      "Remaining Students: 12\n"
     ]
    }
   ],
   "source": [
    "\n",
    "stu1 = 113\n",
    "stu2 = 175\n",
    "stu3 = 12\n",
    "studentspergroup = 24\n",
    "\n",
    "fullgroups1 = stu1 // studentspergroup\n",
    "remaining_students_1 = stu1 % studentspergroup\n",
    "\n",
    "fullgroups2 = stu2 // studentspergroup\n",
    "remaining_students_2 = stu2 % studentspergroup\n",
    "\n",
    "fullgroups3 = stu3 // studentspergroup\n",
    "remaining_students_3 = stu3 % studentspergroup\n",
    "\n",
    "print(f\"For {stu1} students:\")\n",
    "print(f\"Full Groups: {fullgroups1}\")\n",
    "print(f\"Remaining Students: {remaining_students_1}\\n\")\n",
    "\n",
    "print(f\"For {stu2} students:\")\n",
    "print(f\"Full Groups: {fullgroups2}\")\n",
    "print(f\"Remaining Students: {remaining_students_2}\\n\")\n",
    "\n",
    "print(f\"For {stu3} students:\")\n",
    "print(f\"Full Groups: {fullgroups3}\")\n",
    "print(f\"Remaining Students: {remaining_students_3}\")\n"
   ]
  },
  {
   "cell_type": "markdown",
   "id": "a932c6b0",
   "metadata": {},
   "source": [
    "# 4"
   ]
  },
  {
   "cell_type": "code",
   "execution_count": 2,
   "id": "defb1c6f",
   "metadata": {},
   "outputs": [
    {
     "name": "stdout",
     "output_type": "stream",
     "text": [
      "Matches Played: 609\n",
      "Times Batted: 1014\n",
      "Not Out: 162\n",
      "Runs Scored: 48426\n",
      "Batting Average: 56.84\n"
     ]
    }
   ],
   "source": [
    "matches= 609\n",
    "times = 1014\n",
    "notout = 162\n",
    "runsscored = 48426\n",
    "\n",
    "completedinnings = times - notout\n",
    "battingaverage = runsscored / completedinnings\n",
    "\n",
    "print(f\"Matches Played: {matches}\")\n",
    "print(f\"Times Batted: {times}\")\n",
    "print(f\"Not Out: {notout}\")\n",
    "print(f\"Runs Scored: {runsscored}\")\n",
    "print(f\"Batting Average: {battingaverage:.2f}\")\n"
   ]
  }
 ],
 "metadata": {
  "kernelspec": {
   "display_name": "Python 3 (ipykernel)",
   "language": "python",
   "name": "python3"
  },
  "language_info": {
   "codemirror_mode": {
    "name": "ipython",
    "version": 3
   },
   "file_extension": ".py",
   "mimetype": "text/x-python",
   "name": "python",
   "nbconvert_exporter": "python",
   "pygments_lexer": "ipython3",
   "version": "3.9.13"
  }
 },
 "nbformat": 4,
 "nbformat_minor": 5
}
