{
 "cells": [
  {
   "cell_type": "markdown",
   "id": "a88b1ca1",
   "metadata": {},
   "source": [
    "q1"
   ]
  },
  {
   "cell_type": "code",
   "execution_count": 1,
   "id": "6308084b",
   "metadata": {},
   "outputs": [
    {
     "name": "stdout",
     "output_type": "stream",
     "text": [
      "Hello, what is your name? Aditi Pokharel\n",
      "Hello, Aditi Pokharel. Good to meet you!\n"
     ]
    }
   ],
   "source": [
    "\n",
    "user_name = input(\"Hello, what is your name? \")\n",
    "\n",
    "print(f\"Hello, {user_name}. Good to meet you!\")\n"
   ]
  },
  {
   "cell_type": "markdown",
   "id": "5624e200",
   "metadata": {},
   "source": [
    "q2"
   ]
  },
  {
   "cell_type": "code",
   "execution_count": 2,
   "id": "f0508a32",
   "metadata": {},
   "outputs": [
    {
     "name": "stdout",
     "output_type": "stream",
     "text": [
      "Enter a temperature in Celsius: 23\n",
      "23.0C is equivalent to 73.4F.\n"
     ]
    }
   ],
   "source": [
    "celsius_temperature = float(input(\"Enter a temperature in Celsius: \"))\n",
    "\n",
    "fahrenheit_temperature = (celsius_temperature * 9/5) + 32\n",
    "\n",
    "print(f\"{celsius_temperature}C is equivalent to {fahrenheit_temperature}F.\")\n",
    "\n"
   ]
  },
  {
   "cell_type": "markdown",
   "id": "0921d018",
   "metadata": {},
   "source": [
    "q3"
   ]
  },
  {
   "cell_type": "code",
   "execution_count": 3,
   "id": "cec08184",
   "metadata": {},
   "outputs": [
    {
     "name": "stdout",
     "output_type": "stream",
     "text": [
      "How many students? 22\n",
      "Required group size? 3\n",
      "There will be 7 groups with 1 student left over.\n"
     ]
    }
   ],
   "source": [
    "num_students = int(input(\"How many students? \"))\n",
    "group_size = int(input(\"Required group size? \"))\n",
    "\n",
    "num_groups = num_students // group_size\n",
    "students_left_over = num_students % group_size\n",
    "\n",
    "if num_groups == 1:\n",
    "    print(f\"There will be 1 group with {students_left_over} student{'s' if students_left_over != 1 else ''} left over.\")\n",
    "else:\n",
    "    print(f\"There will be {num_groups} groups with {students_left_over} student{'s' if students_left_over != 1 else ''} left over.\")\n"
   ]
  },
  {
   "cell_type": "markdown",
   "id": "4f8225c4",
   "metadata": {},
   "source": [
    "q4"
   ]
  },
  {
   "cell_type": "code",
   "execution_count": 4,
   "id": "29c37bdd",
   "metadata": {},
   "outputs": [
    {
     "name": "stdout",
     "output_type": "stream",
     "text": [
      "Enter the total number of sweets: 66\n",
      "Enter the number of pupils: 6\n",
      "Each pupil will get 11 sweets.\n",
      "There will be 0 sweets left over.\n"
     ]
    }
   ],
   "source": [
    "total_sweets = int(input(\"Enter the total number of sweets: \"))\n",
    "num_pupils = int(input(\"Enter the number of pupils: \"))\n",
    "sweets_per_pupil = total_sweets // num_pupils\n",
    "leftover_sweets = total_sweets % num_pupils\n",
    "\n",
    "print(f\"Each pupil will get {sweets_per_pupil} sweet{'s' if sweets_per_pupil != 1 else ''}.\")\n",
    "print(f\"There will be {leftover_sweets} sweet{'s' if leftover_sweets != 1 else ''} left over.\")\n"
   ]
  },
  {
   "cell_type": "code",
   "execution_count": null,
   "id": "3e200268",
   "metadata": {},
   "outputs": [],
   "source": []
  }
 ],
 "metadata": {
  "kernelspec": {
   "display_name": "Python 3 (ipykernel)",
   "language": "python",
   "name": "python3"
  },
  "language_info": {
   "codemirror_mode": {
    "name": "ipython",
    "version": 3
   },
   "file_extension": ".py",
   "mimetype": "text/x-python",
   "name": "python",
   "nbconvert_exporter": "python",
   "pygments_lexer": "ipython3",
   "version": "3.9.13"
  }
 },
 "nbformat": 4,
 "nbformat_minor": 5
}
