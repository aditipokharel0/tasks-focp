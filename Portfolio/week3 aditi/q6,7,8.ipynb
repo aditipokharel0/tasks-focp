{
 "cells": [
  {
   "cell_type": "markdown",
   "id": "ffa0f42b",
   "metadata": {},
   "source": [
    "q6"
   ]
  },
  {
   "cell_type": "code",
   "execution_count": 1,
   "id": "309c4125",
   "metadata": {},
   "outputs": [
    {
     "name": "stdout",
     "output_type": "stream",
     "text": [
      "0 x 7 = 0\n",
      "1 x 7 = 7\n",
      "2 x 7 = 14\n",
      "3 x 7 = 21\n",
      "4 x 7 = 28\n",
      "5 x 7 = 35\n",
      "6 x 7 = 42\n",
      "7 x 7 = 49\n",
      "8 x 7 = 56\n",
      "9 x 7 = 63\n",
      "10 x 7 = 70\n",
      "11 x 7 = 77\n",
      "12 x 7 = 84\n"
     ]
    }
   ],
   "source": [
    "for i in range(13):\n",
    "    result = i * 7\n",
    "    print(f\"{i} x 7 = {result}\")\n"
   ]
  },
  {
   "cell_type": "markdown",
   "id": "bc3d87fa",
   "metadata": {},
   "source": [
    "q7"
   ]
  },
  {
   "cell_type": "code",
   "execution_count": 2,
   "id": "67dd6c46",
   "metadata": {},
   "outputs": [
    {
     "name": "stdout",
     "output_type": "stream",
     "text": [
      "Enter the number for the times table (0 to 12): 6\n",
      "0 x 6 = 0\n",
      "1 x 6 = 6\n",
      "2 x 6 = 12\n",
      "3 x 6 = 18\n",
      "4 x 6 = 24\n",
      "5 x 6 = 30\n",
      "6 x 6 = 36\n",
      "7 x 6 = 42\n",
      "8 x 6 = 48\n",
      "9 x 6 = 54\n",
      "10 x 6 = 60\n",
      "11 x 6 = 66\n",
      "12 x 6 = 72\n"
     ]
    }
   ],
   "source": [
    "table_number = int(input(\"Enter the number for the times table (0 to 12): \"))\n",
    "if 0 <= table_number <= 12:\n",
    "    for i in range(13):\n",
    "        result = i * table_number\n",
    "        print(f\"{i} x {table_number} = {result}\")\n",
    "else:\n",
    "    print(\"Invalid input. Please enter a number between 0 and 12.\")\n"
   ]
  },
  {
   "cell_type": "markdown",
   "id": "1eeb7b4f",
   "metadata": {},
   "source": [
    "q8"
   ]
  },
  {
   "cell_type": "code",
   "execution_count": 4,
   "id": "c6ac4506",
   "metadata": {},
   "outputs": [
    {
     "name": "stdout",
     "output_type": "stream",
     "text": [
      "Enter the number for the times table (-12 to 12): -11\n",
      "12 x 11 = -132\n",
      "11 x 11 = -121\n",
      "10 x 11 = -110\n",
      "9 x 11 = -99\n",
      "8 x 11 = -88\n",
      "7 x 11 = -77\n",
      "6 x 11 = -66\n",
      "5 x 11 = -55\n",
      "4 x 11 = -44\n",
      "3 x 11 = -33\n",
      "2 x 11 = -22\n",
      "1 x 11 = -11\n",
      "0 x 11 = 0\n"
     ]
    }
   ],
   "source": [
    "table_number = int(input(\"Enter the number for the times table (-12 to 12): \"))\n",
    "\n",
    "if -12 <= table_number <= 12:\n",
    "    step = -1 if table_number < 0 else 1\n",
    "\n",
    "    for i in range(12, -1, step):\n",
    "        result = i * table_number\n",
    "        print(f\"{i} x {abs(table_number)} = {result}\")\n",
    "else:\n",
    "    print(\"Invalid input. Please enter a number between -12 and 12.\")\n"
   ]
  }
 ],
 "metadata": {
  "kernelspec": {
   "display_name": "Python 3 (ipykernel)",
   "language": "python",
   "name": "python3"
  },
  "language_info": {
   "codemirror_mode": {
    "name": "ipython",
    "version": 3
   },
   "file_extension": ".py",
   "mimetype": "text/x-python",
   "name": "python",
   "nbconvert_exporter": "python",
   "pygments_lexer": "ipython3",
   "version": "3.9.13"
  }
 },
 "nbformat": 4,
 "nbformat_minor": 5
}
