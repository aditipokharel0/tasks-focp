{
 "cells": [
  {
   "cell_type": "markdown",
   "id": "932ea48c",
   "metadata": {},
   "source": [
    "q1"
   ]
  },
  {
   "cell_type": "code",
   "execution_count": 1,
   "id": "aa473d8c",
   "metadata": {},
   "outputs": [
    {
     "name": "stdout",
     "output_type": "stream",
     "text": [
      "Hello, what is your name? Aditi Pokharel\n",
      "Hello, Aditi Pokharel. Good to meet you!\n"
     ]
    }
   ],
   "source": [
    "user_name = input(\"Hello, what is your name? \")\n",
    "\n",
    "if user_name:\n",
    "    print(f\"Hello, {user_name}. Good to meet you!\")\n",
    "else:\n",
    "    print(\"Hello, Stranger!\")\n"
   ]
  },
  {
   "cell_type": "markdown",
   "id": "163d72e7",
   "metadata": {},
   "source": [
    "q2"
   ]
  },
  {
   "cell_type": "code",
   "execution_count": 3,
   "id": "fae05d16",
   "metadata": {},
   "outputs": [
    {
     "name": "stdout",
     "output_type": "stream",
     "text": [
      "Enter a new password: nn\n",
      "Re-enter the password: mm\n",
      "Error: Passwords do not match. Please try again.\n"
     ]
    }
   ],
   "source": [
    "password1 = input(\"Enter a new password: \")\n",
    "password2 = input(\"Re-enter the password: \")\n",
    "\n",
    "if password1 == password2:\n",
    "    print(\"Password Set\")\n",
    "else:\n",
    "    print(\"Error: Passwords do not match. Please try again.\")\n"
   ]
  },
  {
   "cell_type": "markdown",
   "id": "353ccccc",
   "metadata": {},
   "source": [
    "q3"
   ]
  },
  {
   "cell_type": "code",
   "execution_count": 5,
   "id": "0c23613a",
   "metadata": {},
   "outputs": [
    {
     "name": "stdout",
     "output_type": "stream",
     "text": [
      "Enter a new password (8-12 characters): yy\n",
      "Re-enter the password: yy\n",
      "Error: Password must be between 8 and 12 characters.\n"
     ]
    }
   ],
   "source": [
    "password1 = input(\"Enter a new password (8-12 characters): \")\n",
    "password2 = input(\"Re-enter the password: \")\n",
    "if password1 == password2:\n",
    "    if 8 <= len(password1) <= 12:\n",
    "        print(\"Password Set\")\n",
    "    else:\n",
    "        print(\"Error: Password must be between 8 and 12 characters.\")\n",
    "else:\n",
    "    print(\"Error: Passwords do not match. Please try again.\")\n"
   ]
  },
  {
   "cell_type": "markdown",
   "id": "f11bc364",
   "metadata": {},
   "source": [
    "q4"
   ]
  },
  {
   "cell_type": "code",
   "execution_count": 7,
   "id": "55cbf1a3",
   "metadata": {},
   "outputs": [
    {
     "name": "stdout",
     "output_type": "stream",
     "text": [
      "Enter a new password (8-12 characters): password\n",
      "Re-enter the password: password\n",
      "Error: Password is too common. Please choose a different one.\n"
     ]
    }
   ],
   "source": [
    "BAD_PASSWORDS = ['password', 'letmein', 'sesame', 'hello', 'justinbieber']\n",
    "password1 = input(\"Enter a new password (8-12 characters): \")\n",
    "password2 = input(\"Re-enter the password: \")\n",
    "if password1 == password2:\n",
    "    if 8 <= len(password1) <= 12:\n",
    "        if password1 not in BAD_PASSWORDS:\n",
    "            print(\"Password Set\")\n",
    "        else:\n",
    "            print(\"Error: Password is too common. Please choose a different one.\")\n",
    "    else:\n",
    "        print(\"Error: Password must be between 8 and 12 characters.\")\n",
    "else:\n",
    "    print(\"Error: Passwords do not match. Please try again.\")\n"
   ]
  },
  {
   "cell_type": "markdown",
   "id": "4566b9c1",
   "metadata": {},
   "source": [
    "q5"
   ]
  },
  {
   "cell_type": "code",
   "execution_count": null,
   "id": "ae4dbf61",
   "metadata": {},
   "outputs": [
    {
     "name": "stdout",
     "output_type": "stream",
     "text": [
      "Enter a new password (8-12 characters): dd\n",
      "Re-enter the password: gg\n",
      "Error: Passwords do not match. Please try again.\n",
      "Enter a new password (8-12 characters): gg\n",
      "Re-enter the password: dd\n",
      "Error: Passwords do not match. Please try again.\n",
      "Enter a new password (8-12 characters): gg\n",
      "Re-enter the password: ff\n",
      "Error: Passwords do not match. Please try again.\n",
      "Enter a new password (8-12 characters): dd\n",
      "Re-enter the password: dd\n",
      "Error: Password must be between 8 and 12 characters.\n",
      "Enter a new password (8-12 characters): ajgvaivhaqilvhg\n",
      "Re-enter the password: gg\n",
      "Error: Passwords do not match. Please try again.\n"
     ]
    }
   ],
   "source": [
    "BAD_PASSWORDS = ['password', 'letmein', 'sesame', 'hello', 'justinbieber']\n",
    "\n",
    "while True:\n",
    "    password1 = input(\"Enter a new password (8-12 characters): \")\n",
    "    password2 = input(\"Re-enter the password: \")\n",
    "    if password1 == password2:\n",
    "        if 8 <= len(password1) <= 12:\n",
    "            if password1 not in BAD_PASSWORDS:\n",
    "                print(\"Password Set\")\n",
    "                break  \n",
    "            else:\n",
    "                print(\"Error: Password is too common. Please choose a different one.\")\n",
    "        else:\n",
    "            print(\"Error: Password must be between 8 and 12 characters.\")\n",
    "    else:\n",
    "        print(\"Error: Passwords do not match. Please try again.\")\n"
   ]
  }
 ],
 "metadata": {
  "kernelspec": {
   "display_name": "Python 3 (ipykernel)",
   "language": "python",
   "name": "python3"
  },
  "language_info": {
   "codemirror_mode": {
    "name": "ipython",
    "version": 3
   },
   "file_extension": ".py",
   "mimetype": "text/x-python",
   "name": "python",
   "nbconvert_exporter": "python",
   "pygments_lexer": "ipython3",
   "version": "3.9.13"
  }
 },
 "nbformat": 4,
 "nbformat_minor": 5
}
