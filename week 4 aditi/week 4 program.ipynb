{
 "cells": [
  {
   "cell_type": "markdown",
   "id": "300590b5",
   "metadata": {},
   "source": [
    "q1"
   ]
  },
  {
   "cell_type": "code",
   "execution_count": 1,
   "id": "a7633dc5",
   "metadata": {},
   "outputs": [
    {
     "name": "stdout",
     "output_type": "stream",
     "text": [
      "Enter an integer: 3\n",
      "3 is in the range 0 to 100.\n"
     ]
    }
   ],
   "source": [
    "def validate_input(number):\n",
    "    return 0 <= number <= 100\n",
    "\n",
    "test_number = int(input(\"Enter an integer: \"))\n",
    "\n",
    "if validate_input(test_number):\n",
    "    print(f\"{test_number} is in the range 0 to 100.\")\n",
    "else:\n",
    "    print(f\"{test_number} is outside the range 0 to 100.\")\n"
   ]
  },
  {
   "cell_type": "markdown",
   "id": "96848e0f",
   "metadata": {},
   "source": [
    "q2"
   ]
  },
  {
   "cell_type": "code",
   "execution_count": 2,
   "id": "342726f3",
   "metadata": {},
   "outputs": [
    {
     "name": "stdout",
     "output_type": "stream",
     "text": [
      "Enter a string: w\n",
      "Number of uppercase letters: 0\n",
      "Number of lowercase letters: 1\n"
     ]
    }
   ],
   "source": [
    "def count_upper_lower(string):\n",
    "    upper_count = 0\n",
    "    lower_count = 0\n",
    "\n",
    "    for char in string:\n",
    "        if char.isupper():\n",
    "            upper_count += 1\n",
    "        elif char.islower():\n",
    "            lower_count += 1\n",
    "    return upper_count, lower_count\n",
    "\n",
    "input_string = input(\"Enter a string: \")\n",
    "upper, lower = count_upper_lower(input_string)\n",
    "\n",
    "print(f\"Number of uppercase letters: {upper}\")\n",
    "print(f\"Number of lowercase letters: {lower}\")\n"
   ]
  },
  {
   "cell_type": "markdown",
   "id": "6116235f",
   "metadata": {},
   "source": [
    "q3"
   ]
  },
  {
   "cell_type": "code",
   "execution_count": 3,
   "id": "0c03d72b",
   "metadata": {},
   "outputs": [
    {
     "name": "stdout",
     "output_type": "stream",
     "text": [
      "Enter your name: \n",
      "Hello, !\n"
     ]
    }
   ],
   "source": [
    "def greet_user(name):\n",
    "    formatted_name = name.capitalize()\n",
    "    print(f\"Hello, {formatted_name}!\")\n",
    "\n",
    "user_input = input(\"Enter your name: \")\n",
    "greet_user(user_input)\n"
   ]
  },
  {
   "cell_type": "markdown",
   "id": "d43f6524",
   "metadata": {},
   "source": [
    "q4"
   ]
  },
  {
   "cell_type": "code",
   "execution_count": 4,
   "id": "9a53a5e9",
   "metadata": {},
   "outputs": [
    {
     "name": "stdout",
     "output_type": "stream",
     "text": [
      "Enter a string: 3\n",
      "Original string: 3\n",
      "String with the last character removed: 3\n"
     ]
    }
   ],
   "source": [
    "def remove_last_character(input_string):\n",
    "    if len(input_string) > 1:\n",
    "        return input_string[:-1]\n",
    "    else:\n",
    "        return input_string\n",
    "\n",
    "user_input = input(\"Enter a string: \")\n",
    "result = remove_last_character(user_input)\n",
    "\n",
    "print(f\"Original string: {user_input}\")\n",
    "print(f\"String with the last character removed: {result}\")\n"
   ]
  },
  {
   "cell_type": "markdown",
   "id": "ee5f2faa",
   "metadata": {},
   "source": [
    "q5"
   ]
  },
  {
   "cell_type": "code",
   "execution_count": 5,
   "id": "64eb402e",
   "metadata": {},
   "outputs": [
    {
     "name": "stdout",
     "output_type": "stream",
     "text": [
      "Enter temperature in Celsius: 22\n",
      "22.0°C is equal to 71.60°F\n",
      "Enter temperature in Fahrenheit: 22\n",
      "22.0°F is equal to -5.56°C\n"
     ]
    }
   ],
   "source": [
    "def celsius_to_fahrenheit(celsius):\n",
    "    fahrenheit = (celsius * 9/5) + 32\n",
    "    return fahrenheit\n",
    "\n",
    "def fahrenheit_to_celsius(fahrenheit):\n",
    "    celsius = (fahrenheit - 32) * 5/9\n",
    "    return celsius\n",
    "\n",
    "celsius_temperature = float(input(\"Enter temperature in Celsius: \"))\n",
    "converted_fahrenheit = celsius_to_fahrenheit(celsius_temperature)\n",
    "print(f\"{celsius_temperature}°C is equal to {converted_fahrenheit:.2f}°F\")\n",
    "\n",
    "fahrenheit_temperature = float(input(\"Enter temperature in Fahrenheit: \"))\n",
    "converted_celsius = fahrenheit_to_celsius(fahrenheit_temperature)\n",
    "print(f\"{fahrenheit_temperature}°F is equal to {converted_celsius:.2f}°C\")\n"
   ]
  },
  {
   "cell_type": "markdown",
   "id": "55f8dc26",
   "metadata": {},
   "source": [
    "q6"
   ]
  },
  {
   "cell_type": "code",
   "execution_count": 6,
   "id": "5c04da1d",
   "metadata": {},
   "outputs": [
    {
     "name": "stdout",
     "output_type": "stream",
     "text": [
      "Enter temperature in centigrade (e.g., 25C): 22d\n",
      "Invalid unit. Please enter a temperature in centigrade with the unit 'C'.\n"
     ]
    }
   ],
   "source": [
    "def celsius_to_fahrenheit(celsius):\n",
    "    fahrenheit = (celsius * 9/5) + 32\n",
    "    return fahrenheit\n",
    "\n",
    "user_input = input(\"Enter temperature in centigrade (e.g., 25C): \")\n",
    "\n",
    "temperature_str, unit = user_input[:-1], user_input[-1]\n",
    "\n",
    "try:\n",
    "    temperature = float(temperature_str)\n",
    "except ValueError:\n",
    "    print(\"Invalid input. Please enter a valid temperature.\")\n",
    "else:\n",
    "    if unit.upper() == 'C':\n",
    "        converted_fahrenheit = celsius_to_fahrenheit(temperature)\n",
    "        print(f\"{temperature}°C is equal to {converted_fahrenheit:.2f}°F\")\n",
    "    else:\n",
    "        print(\"Invalid unit. Please enter a temperature in centigrade with the unit 'C'.\")\n"
   ]
  },
  {
   "cell_type": "markdown",
   "id": "0bd86e02",
   "metadata": {},
   "source": [
    "q7"
   ]
  },
  {
   "cell_type": "code",
   "execution_count": 7,
   "id": "6cec2049",
   "metadata": {},
   "outputs": [
    {
     "name": "stdout",
     "output_type": "stream",
     "text": [
      "Enter temperature 1 in centigrade (e.g., 25C): 22\n",
      "Invalid unit for temperature 1. Please enter a temperature in centigrade with the unit 'C'.\n",
      "Enter temperature 2 in centigrade (e.g., 25C): 22\n",
      "Invalid unit for temperature 2. Please enter a temperature in centigrade with the unit 'C'.\n",
      "Enter temperature 3 in centigrade (e.g., 25C): 22\n",
      "Invalid unit for temperature 3. Please enter a temperature in centigrade with the unit 'C'.\n",
      "Enter temperature 4 in centigrade (e.g., 25C): 22\n",
      "Invalid unit for temperature 4. Please enter a temperature in centigrade with the unit 'C'.\n",
      "Enter temperature 5 in centigrade (e.g., 25C): 22\n",
      "Invalid unit for temperature 5. Please enter a temperature in centigrade with the unit 'C'.\n",
      "Enter temperature 6 in centigrade (e.g., 25C): 22c\n",
      "\n",
      "Maximum Temperature: 22.00°C (71.60°F)\n",
      "Minimum Temperature: 22.00°C (71.60°F)\n",
      "Mean Temperature: 22.00°C (71.60°F)\n"
     ]
    }
   ],
   "source": [
    "def celsius_to_fahrenheit(celsius):\n",
    "    return (celsius * 9/5) + 32\n",
    "\n",
    "\n",
    "temperatures = []\n",
    "for i in range(1, 7):\n",
    "    user_input = input(f\"Enter temperature {i} in centigrade (e.g., 25C): \")\n",
    "\n",
    "    \n",
    "    temperature_str, unit = user_input[:-1], user_input[-1]\n",
    "\n",
    "    try:\n",
    "        temperature = float(temperature_str)\n",
    "    except ValueError:\n",
    "        print(f\"Invalid input for temperature {i}. Please enter a valid temperature.\")\n",
    "        continue\n",
    "\n",
    "    if unit.upper() == 'C':\n",
    "        temperatures.append(temperature)\n",
    "    else:\n",
    "        print(f\"Invalid unit for temperature {i}. Please enter a temperature in centigrade with the unit 'C'.\")\n",
    "\n",
    "\n",
    "if temperatures:\n",
    "    max_temp = max(temperatures)\n",
    "    min_temp = min(temperatures)\n",
    "    mean_temp = sum(temperatures) / len(temperatures)\n",
    "\n",
    "    # Convert max, min, and mean to Fahrenheit for display\n",
    "    max_temp_fahrenheit = celsius_to_fahrenheit(max_temp)\n",
    "    min_temp_fahrenheit = celsius_to_fahrenheit(min_temp)\n",
    "    mean_temp_fahrenheit = celsius_to_fahrenheit(mean_temp)\n",
    "\n",
    "    print(f\"\\nMaximum Temperature: {max_temp:.2f}°C ({max_temp_fahrenheit:.2f}°F)\")\n",
    "    print(f\"Minimum Temperature: {min_temp:.2f}°C ({min_temp_fahrenheit:.2f}°F)\")\n",
    "    print(f\"Mean Temperature: {mean_temp:.2f}°C ({mean_temp_fahrenheit:.2f}°F)\")\n",
    "else:\n",
    "    print(\"No valid temperatures entered.\")\n"
   ]
  },
  {
   "cell_type": "markdown",
   "id": "0ec52e5d",
   "metadata": {},
   "source": [
    "q8"
   ]
  },
  {
   "cell_type": "code",
   "execution_count": null,
   "id": "83af51cd",
   "metadata": {},
   "outputs": [],
   "source": [
    "def celsius_to_fahrenheit(celsius):\n",
    "    return (celsius * 9/5) + 32\n",
    "\n",
    "temperatures = []\n",
    "while True:\n",
    "    user_input = input(\"Enter temperature in centigrade (press Enter to finish): \")\n",
    "\n",
    "    if not user_input:\n",
    "        break\n",
    "\n",
    "    temperature_str, unit = user_input[:-1], user_input[-1]\n",
    "\n",
    "    try:\n",
    "        temperature = float(temperature_str)\n",
    "    except ValueError:\n",
    "        print(\"Invalid input. Please enter a valid temperature.\")\n",
    "        continue\n",
    "\n",
    "    if unit.upper() == 'C':\n",
    "        temperatures.append(temperature)\n",
    "    else:\n",
    "        print(\"Invalid unit. Please enter a temperature in centigrade with the unit 'C'.\")\n",
    "\n",
    "if temperatures:\n",
    "    max_temp = max(temperatures)\n",
    "    min_temp = min(temperatures)\n",
    "    mean_temp = sum(temperatures) / len(temperatures)\n",
    "\n",
    "    max_temp_fahrenheit = celsius_to_fahrenheit(max_temp)\n",
    "    min_temp_fahrenheit = celsius_to_fahrenheit(min_temp)\n",
    "    mean_temp_fahrenheit = celsius_to_fahrenheit(mean_temp)\n",
    "\n",
    "    print(\"\\nTemperature Statistics:\")\n",
    "    print(f\"Maximum Temperature: {max_temp:.2f}°C ({max_temp_fahrenheit:.2f}°F)\")\n",
    "    print(f\"Minimum Temperature: {min_temp:.2f}°C ({min_temp_fahrenheit:.2f}°F)\")\n",
    "    print(f\"Mean Temperature: {mean_temp:.2f}°C ({mean_temp_fahrenheit:.2f}°F)\")\n",
    "else:\n",
    "    print(\"No temperatures entered.\")\n"
   ]
  },
  {
   "cell_type": "code",
   "execution_count": null,
   "id": "fb82e7e6",
   "metadata": {},
   "outputs": [],
   "source": []
  }
 ],
 "metadata": {
  "kernelspec": {
   "display_name": "Python 3 (ipykernel)",
   "language": "python",
   "name": "python3"
  },
  "language_info": {
   "codemirror_mode": {
    "name": "ipython",
    "version": 3
   },
   "file_extension": ".py",
   "mimetype": "text/x-python",
   "name": "python",
   "nbconvert_exporter": "python",
   "pygments_lexer": "ipython3",
   "version": "3.9.13"
  }
 },
 "nbformat": 4,
 "nbformat_minor": 5
}
